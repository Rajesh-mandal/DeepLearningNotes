{
 "cells": [
  {
   "cell_type": "markdown",
   "id": "e74af16a",
   "metadata": {},
   "source": [
    " https://towardsai.net/p/computer-vision/yolo-v5%E2%80%8A-%E2%80%8Aexplained-and-demystified \n",
    " https://www.analyticsvidhya.com/blog/2021/12/how-to-use-yolo-v5-object-detection-algorithm-for-custom-object-detection-an-example-use-case/ \n",
    " \n",
    " https://towardsdatascience.com/yolo-v5-is-here-b668ce2a4908  \n",
    "https://towardsai.net/p/computer-vision/yolo-v5%E2%80%8A-%E2%80%8Aexplained-and-demystified#:~:text=the%20technical%20discussion.-,YOLO%20v5%20Model%20Architecture,other%20single%2Dstage%20object%20detector.&text=Model%20Backbone%20is%20mainly%20used,from%20the%20given%20input%20image."
   ]
  },
  {
   "cell_type": "markdown",
   "id": "90e603d9",
   "metadata": {},
   "source": [
    "> Compared to other object detection frameworks, YOLOv5 is extremely easy to use for a developer implementing computer vision technologies into an application. I categorize these quality of life updates into the following.\n",
    "\n",
    "- **Easy Install** - YOLOv5 only requires the installation of torch and some lightweight python libraries.\n",
    "- **Fast Training** - The YOLOv5 models train extremely quickly which helps cut down on experimentation costs as you build your model.\n",
    "- **Inference Ports that work **- You can infer with YOLOv5 on individual images, batch images, video feeds, or webcam ports.\n",
    "- **Intuitive Layout** - File folder layout is intuitive and easy to navigate while developing\n",
    "- **Easy Translation to Mobile** - You can easily translate YOLOv5 from PyTorch weights to ONXX weights to CoreML to IOS."
   ]
  },
  {
   "cell_type": "markdown",
   "id": "1aaec7d6",
   "metadata": {},
   "source": [
    "**As YOLO v5 has a total of 4 versions,**\n",
    "**YOLO v5 Model Architecture** \n",
    "- abs Activation Function\n",
    "- Optimization Function\n",
    "- Cost Function or Loss Function\n",
    "- Weights, Biases, Parameters, Gradients, and Final Model Summary\n",
    "## YOLO v5 Model Architecture\n",
    "As YOLO v5 is a single-stage object detector, it has three important parts like any other single-stage object detector.  \n",
    "\n",
    "- Model Backbone\n",
    "- Model Neck\n",
    "- Model Head\n",
    "- Model Backbone is mainly used to extract important features from the given input image. In YOLO v5 the CSP — Cross Stage Partial Networks are used as a backbone to extract rich in informative features from an input image.\n",
    "\n",
    "- CSPNet has shown significant improvement in processing time with deeper networks.\n",
    "\n",
    "- **Model Neck** is mainly used to generate feature pyramids. Feature pyramids help models to generalized well on object scaling. It helps to identify the same object with different sizes and scales.\n",
    "\n",
    "- **Feature pyramids** are very useful and help models to perform well on unseen data. There are other models that use different types of feature pyramid techniques like FPN, BiFPN, PANet, etc.\n",
    "- **In YOLO v5 PANet is used for as neck to get feature pyramids. **\n",
    "\n",
    "## Understanding Feature Pyramid Networks for object detection (FPN)\n",
    "- The model Head is mainly used to perform the final detection part. It applied anchor boxes on features and generates final output vectors with class probabilities, objectness scores, and bounding boxes.  \n",
    "- In YOLO v5 model head is the same as the previous YOLO V3 and V4 versions.\n",
    "- Additionally, attaching the final model architecture for YOLO v5 — a small version.\n",
    "\n",
    "## Activation Function\n",
    "- The choice of activation functions is most crucial in any deep neural network. Recently lots of activation functions have been introduced like Leaky ReLU, mish, swish, etc.\n",
    "\n",
    "- YOLO v5 authors decided to go with the Leaky ReLU and Sigmoid activation function.\n",
    "\n",
    "- In YOLO v5 the Leaky ReLU activation function is used in middle/hidden layers and the sigmoid activation function is used in the final detection layer\n",
    "\n",
    "## Optimization Function  \n",
    "- For optimization function in YOLO v5, we have two options\n",
    "i) SGD  \n",
    "ii) Adam  \n",
    "- In YOLO v5, the default optimization function for training is SGD.\n",
    "- However, you can change it to Adam by using the “ — — adam” command-line argument\n",
    "\n",
    "## Cost Function or Loss Function\n",
    "- In the YOLO family, there is a compound loss is calculated based on objectness score, class probability score, and bounding box regression score.\n",
    "\n",
    "- Ultralytics have used Binary Cross-Entropy with Logits Loss function from PyTorch for loss calculation of class probability and object score.\n",
    "\n",
    "- We also have an option to choose the Focal Loss function to calculate the loss. You can choose to train with Focal Loss by using fl_gamma hyper-parameter.\n"
   ]
  },
  {
   "cell_type": "markdown",
   "id": "fed1414e",
   "metadata": {},
   "source": [
    "## Advantages & Disadvantages of Yolo v5\n",
    "- It is about 88% smaller than YOLOv4 (27 MB vs 244 MB)\n",
    "- It is about 180% faster than YOLOv4 (140 FPS vs 50 FPS)\n",
    "- It is roughly as accurate as YOLOv4 on the same task (0.895 mAP vs 0.892 mAP)\n",
    "- But the main problem is that for YOLOv5 there is no official paper was released like other YOLO versions. Also, YOLO v5 is still under development and we receive frequent updates from ultralytics, developers may update some settings in the future. "
   ]
  },
  {
   "cell_type": "markdown",
   "id": "3c137fc6",
   "metadata": {},
   "source": [
    "https://www.analyticsvidhya.com/blog/2021/12/how-to-use-yolo-v5-object-detection-algorithm-for-custom-object-detection-an-example-use-case/"
   ]
  },
  {
   "cell_type": "markdown",
   "id": "dec81aeb",
   "metadata": {},
   "source": [
    "# What is the difference between a two-stage and one-stage object detector?\n",
    "- One-stage detectors have high inference speeds and two-stage detectors have high localization and recognition accuracy. \n",
    "- The two stages of a two-stage detector can be divided by a RoI (Region of Interest) Pooling layer. One of the prominent two-stage object detectors is Faster R-CNN."
   ]
  },
  {
   "cell_type": "code",
   "execution_count": null,
   "id": "15a2a0a5",
   "metadata": {},
   "outputs": [],
   "source": []
  }
 ],
 "metadata": {
  "hide_input": false,
  "kernelspec": {
   "display_name": "Python 3",
   "language": "python",
   "name": "python3"
  },
  "language_info": {
   "codemirror_mode": {
    "name": "ipython",
    "version": 3
   },
   "file_extension": ".py",
   "mimetype": "text/x-python",
   "name": "python",
   "nbconvert_exporter": "python",
   "pygments_lexer": "ipython3",
   "version": "3.8.8"
  },
  "toc": {
   "base_numbering": 1,
   "nav_menu": {},
   "number_sections": true,
   "sideBar": true,
   "skip_h1_title": false,
   "title_cell": "Table of Contents",
   "title_sidebar": "Contents",
   "toc_cell": false,
   "toc_position": {},
   "toc_section_display": true,
   "toc_window_display": false
  },
  "varInspector": {
   "cols": {
    "lenName": 16,
    "lenType": 16,
    "lenVar": 40
   },
   "kernels_config": {
    "python": {
     "delete_cmd_postfix": "",
     "delete_cmd_prefix": "del ",
     "library": "var_list.py",
     "varRefreshCmd": "print(var_dic_list())"
    },
    "r": {
     "delete_cmd_postfix": ") ",
     "delete_cmd_prefix": "rm(",
     "library": "var_list.r",
     "varRefreshCmd": "cat(var_dic_list()) "
    }
   },
   "types_to_exclude": [
    "module",
    "function",
    "builtin_function_or_method",
    "instance",
    "_Feature"
   ],
   "window_display": false
  }
 },
 "nbformat": 4,
 "nbformat_minor": 5
}
